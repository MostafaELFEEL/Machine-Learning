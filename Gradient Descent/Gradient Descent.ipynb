{
 "cells": [
  {
   "cell_type": "markdown",
   "metadata": {},
   "source": [
    "# Importing and def"
   ]
  },
  {
   "cell_type": "code",
   "execution_count": 1,
   "metadata": {},
   "outputs": [],
   "source": [
    "import math\n",
    "import sympy \n",
    "import numpy as np\n",
    "import matplotlib.pyplot as plt\n",
    "import scipy.optimize as opt\n",
    "\n",
    "x,y,z=sympy.symbols('x y z')\n",
    "\n",
    "\n",
    "def g1(x,y,z):\n",
    "    return 3*x - sympy.cos(y*z) - 0.5 \n",
    "\n",
    "def g2(x,y,z):\n",
    "    return (x**2) - 81*(y + 0.1)**2 + sympy.sin(z) + 1.06\n",
    "\n",
    "def g3(x,y,z):\n",
    "    return sympy.exp(-x*y) + 20*z + (10*sympy.pi - 3)/3\n",
    "\n",
    "def f(x,y,z):\n",
    "    return 0.5*(g1(x,y,z)**2) + 0.5*(g2(x,y,z)**2) + 0.5*(g3(x,y,z)**2)\n",
    "\n",
    "def df(x,y,z):\n",
    "    \n",
    "    return [sympy.diff(f(x,y,z),x),sympy.diff(f(x,y,z),y),sympy.diff(f(x,y,z),z)]  \n",
    "\n",
    "def d2f(x,y,z):\n",
    "    return [[sympy.diff(df(x,y,z)[0],x),sympy.diff(df(x,y,z)[0],y),sympy.diff(df(x,y,z)[0],z)],\n",
    "    [sympy.diff(df(x,y,z)[1],x),sympy.diff(df(x,y,z)[1],y),sympy.diff(df(x,y,z)[1],z)],\n",
    "    [sympy.diff(df(x,y,z)[2],x),sympy.diff(df(x,y,z)[2],y),sympy.diff(df(x,y,z)[2],z)]]\n",
    "\n",
    "function=f(x,y,z)\n",
    "gradient=df(x,y,z)\n",
    "hessian=d2f(x,y,z)\n"
   ]
  },
  {
   "cell_type": "markdown",
   "metadata": {},
   "source": [
    "# Initialization"
   ]
  },
  {
   "cell_type": "code",
   "execution_count": 2,
   "metadata": {},
   "outputs": [],
   "source": [
    "eta=0.004\n",
    "sigma=0.000001\n",
    "x_initial=0\n",
    "y_initial=0\n",
    "z_initial=0"
   ]
  },
  {
   "cell_type": "markdown",
   "metadata": {},
   "source": [
    "# Gradient descent"
   ]
  },
  {
   "cell_type": "code",
   "execution_count": null,
   "metadata": {},
   "outputs": [],
   "source": [
    "def gradient_descent(x_initial,y_initial,z_initial,eta,sigma):\n",
    "    a=x_initial\n",
    "    b=y_initial\n",
    "    c=z_initial  \n",
    "    f_list=[]\n",
    "    f_list.append(function.evalf(subs={x:a,y:b,z:c}))\n",
    "    for i in range(1000):\n",
    "        print('Iteration =', i, ' x =', [a,b,c], ' f(x) =', function.evalf(subs={x:a,y:b,z:c}))\n",
    "        a=(a-eta*gradient[0].evalf(subs={x:a,y:b,z:c}))\n",
    "        b=(b-eta*gradient[1].evalf(subs={x:a,y:b,z:c}))\n",
    "        c=(c-eta*gradient[2].evalf(subs={x:a,y:b,z:c}))\n",
    "        f_list.append(function.evalf(subs={x:a,y:b,z:c}))\n",
    "        if abs(gradient[0].evalf(subs={x:a,y:b,z:c}))<sigma and abs(gradient[1].evalf(subs={x:a,y:b,z:c}))<sigma and abs(gradient[2].evalf(subs={x:a,y:b,z:c}))<sigma:\n",
    "            break\n",
    "    return f_list\n",
    "\n",
    "localmin_f=gradient_descent(x_initial,y_initial,z_initial,eta,sigma)\n",
    "\n",
    "plt.plot(localmin_f)\n",
    "plt.ylabel('F(x)')\n",
    "plt.xlabel('Iteration')\n",
    "plt.title('Gradient Descent')\n",
    "plt.show()\n"
   ]
  },
  {
   "cell_type": "markdown",
   "metadata": {},
   "source": [
    "# Newton method"
   ]
  },
  {
   "cell_type": "code",
   "execution_count": null,
   "metadata": {},
   "outputs": [],
   "source": [
    "def newton_method(x_initial,y_initial,z_initial,sigma):\n",
    "    abc=np.reshape([x_initial,y_initial,z_initial],(3,))\n",
    "    list=[]\n",
    "    f_list=[]\n",
    "    list.append(abc)\n",
    "    f_list.append(function.evalf(subs={x:abc[0],y:abc[1],z:abc[2]}))\n",
    "    for i in range(8):\n",
    "        print('Iteration =', i, ' x =', abc, ' f(x) =', function.evalf(subs={x:abc[0],y:abc[1],z:abc[2]}))\n",
    "        grad1=gradient[0].evalf(subs={x:abc[0],y:abc[1],z:abc[2]})\n",
    "        grad2=gradient[1].evalf(subs={x:abc[0],y:abc[1],z:abc[2]})\n",
    "        grad3=gradient[2].evalf(subs={x:abc[0],y:abc[1],z:abc[2]})\n",
    "        grad=np.reshape([grad1,grad2,grad3],(3,))\n",
    "\n",
    "        hess1=hessian[0][0].evalf(subs={x:abc[0],y:abc[1],z:abc[2]})\n",
    "        hess2=hessian[0][1].evalf(subs={x:abc[0],y:abc[1],z:abc[2]})\n",
    "        hess3=hessian[0][2].evalf(subs={x:abc[0],y:abc[1],z:abc[2]})\n",
    "        hess4=hessian[1][0].evalf(subs={x:abc[0],y:abc[1],z:abc[2]})\n",
    "        hess5=hessian[1][1].evalf(subs={x:abc[0],y:abc[1],z:abc[2]})\n",
    "        hess6=hessian[1][2].evalf(subs={x:abc[0],y:abc[1],z:abc[2]})\n",
    "        hess7=hessian[2][0].evalf(subs={x:abc[0],y:abc[1],z:abc[2]})\n",
    "        hess8=hessian[2][1].evalf(subs={x:abc[0],y:abc[1],z:abc[2]})\n",
    "        hess9=hessian[2][2].evalf(subs={x:abc[0],y:abc[1],z:abc[2]})\n",
    "        hess=np.array([[hess1,hess2,hess3],[hess4,hess5,hess6],[hess7,hess8,hess9]],dtype=np.float64)\n",
    "\n",
    "        hess_inv=np.linalg.inv((hess))\n",
    "        learning_rate=np.reshape(hess_inv@grad,(3,))\n",
    "        abc=np.array(np.reshape(abc,(3,)),dtype=np.float64)-learning_rate\n",
    "        list.append(np.array(abc,dtype=np.float64))\n",
    "        f_list.append(function.evalf(subs={x:abc[0],y:abc[1],z:abc[2]}))\n",
    "        if abs(grad1)<sigma and abs(grad2)<sigma and abs(grad3)<sigma:\n",
    "            break\n",
    "    return f_list\n",
    "\n",
    "Localmin_f=newton_method(x_initial,y_initial,z_initial,sigma)\n",
    "plt.plot(Localmin_f)\n",
    "plt.ylabel('F(x)')\n",
    "plt.xlabel('Iteration')\n",
    "plt.title('Newton Method')\n",
    "plt.show()"
   ]
  },
  {
   "cell_type": "markdown",
   "metadata": {},
   "source": [
    "# Steepest descent"
   ]
  },
  {
   "cell_type": "code",
   "execution_count": null,
   "metadata": {},
   "outputs": [],
   "source": [
    "s=sympy.symbols('s')\n",
    "initial_lambda=0\n",
    "def steepest_descent(x_initial,y_initial,z_initial,initial_lambda,eta,sigma):\n",
    "    a=x_initial\n",
    "    b=y_initial\n",
    "    c=z_initial\n",
    "    Lambda=initial_lambda\n",
    "    lambda_list=[]\n",
    "    f_list=[]\n",
    "    lambda_list.append(Lambda)\n",
    "    f_list.append(function.evalf(subs={x:a,y:b,z:c}))\n",
    "    print('Iteration =', 0, ' x =', [a,b,c], ' f(x) =',function.evalf(subs={x:a,y:b,z:c}))\n",
    "    for i in range(100):\n",
    "\n",
    "        a=a-(s*gradient[0].evalf(subs={x:a,y:b,z:c}))\n",
    "        b=b-(s*gradient[1].evalf(subs={x:a,y:b,z:c}))\n",
    "        c=c-(s*gradient[2].evalf(subs={x:a,y:b,z:c}))\n",
    "        steepest_function=function.subs({x:a,y:b,z:c})\n",
    "\n",
    "        steepest_function_lambdify=sympy.lambdify(s, steepest_function, 'scipy')\n",
    "        local_min=opt.minimize_scalar(steepest_function_lambdify , method='Brent')\n",
    "        Lambda=local_min.x\n",
    "        lambda_list.append(Lambda)\n",
    "        a=a.evalf(subs={s:Lambda})\n",
    "        b=b.evalf(subs={s:Lambda})\n",
    "        c=c.evalf(subs={s:Lambda})\n",
    "\n",
    "        f_list.append(function.evalf(subs={x:a,y:b,z:c}))\n",
    "        print('Iteration =', i+1, ' x =', [a,b,c], ' f(x) =',function.evalf(subs={x:a,y:b,z:c}))\n",
    "        if abs(gradient[0].evalf(subs={x:a,y:b,z:c}))<sigma and abs(gradient[1].evalf(subs={x:a,y:b,z:c}))<sigma and abs(gradient[2].evalf(subs={x:a,y:b,z:c}))<sigma:\n",
    "            break\n",
    "    return f_list\n",
    "\n",
    "s_f=steepest_descent(x_initial,y_initial,z_initial,initial_lambda,eta,sigma)\n",
    "plt.plot(s_f)\n",
    "plt.ylabel('F(x)')\n",
    "plt.xlabel('Iteration')\n",
    "plt.title('Steepest Descent')\n",
    "plt.show()"
   ]
  },
  {
   "cell_type": "markdown",
   "metadata": {},
   "source": [
    "# Comparison"
   ]
  },
  {
   "cell_type": "code",
   "execution_count": 6,
   "metadata": {},
   "outputs": [
    {
     "data": {
      "image/png": "[encoded data removed]",
      "text/plain": [
       "<Figure size 432x432 with 3 Axes>"
      ]
     },
     "metadata": {
      "needs_background": "light"
     },
     "output_type": "display_data"
    }
   ],
   "source": [
    "figure, axis = plt.subplots(2, 2)\n",
    "  \n",
    "# For gradiant decent Function\n",
    "axis[0, 0].plot(localmin_f, color='green')\n",
    "axis[0, 0].grid(True)\n",
    "axis[0, 0].set_title(\"Gradient Descent\")\n",
    "axis[0, 0].set_xlabel(\"Iteration\")\n",
    "axis[0, 0].set_ylabel(\"F(x)\")\n",
    "  \n",
    "# For newton raphson Function\n",
    "axis[0, 1].plot(Localmin_f, color='red')\n",
    "axis[0, 1].grid(True)\n",
    "axis[0, 1].set_title(\"Newton-Raphson\")\n",
    "axis[0, 1].set_xlabel(\"Iteration\")\n",
    "axis[0, 1].set_ylabel(\"F(x)\")\n",
    "  \n",
    "# For Tangent Function\n",
    "axis[1, 0].plot(s_f, color='blue')\n",
    "axis[1, 0].grid(True)\n",
    "axis[1, 0].set_title(\"Steepest Descent\")\n",
    "axis[1, 0].set_xlabel(\"Iteration\")\n",
    "axis[1, 0].set_ylabel(\"F(x)\")\n",
    "figure.tight_layout(pad=0.0)\n",
    "figure.set_size_inches(6, 6)\n",
    "figure.delaxes(axis[1,1])\n",
    "plt.show()"
   ]
  },
  {
   "cell_type": "markdown",
   "metadata": {},
   "source": [
    "# Repeating all three methods with 100 different initial points "
   ]
  },
  {
   "cell_type": "code",
   "execution_count": null,
   "metadata": {},
   "outputs": [],
   "source": [
    "for i in range(100):\n",
    "    initial_matrix=np.random.rand(3)\n",
    "    localmin_f=gradient_descent(initial_matrix[0],initial_matrix[1],initial_matrix[2],eta,sigma)\n",
    "    Localmin_f=newton_method(initial_matrix[0],initial_matrix[1],initial_matrix[2],sigma)\n",
    "    s_f=steepest_descent(initial_matrix[0],initial_matrix[1],initial_matrix[2],initial_lambda,eta,sigma)"
   ]
  }
 ],
 "metadata": {
  "kernelspec": {
   "display_name": "Python 3 (ipykernel)",
   "language": "python",
   "name": "python3"
  },
  "language_info": {
   "codemirror_mode": {
    "name": "ipython",
    "version": 3
   },
   "file_extension": ".py",
   "mimetype": "text/x-python",
   "name": "python",
   "nbconvert_exporter": "python",
   "pygments_lexer": "ipython3",
   "version": "3.9.12"
  },
  "vscode": {
   "interpreter": {
    "hash": "cf0b053ec60c51acbf9b234663d2a94147f1419af99fefc5982f553fc46997b4"
   }
  }
 },
 "nbformat": 4,
 "nbformat_minor": 4
}
