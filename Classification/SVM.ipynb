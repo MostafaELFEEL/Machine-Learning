{
  "cells": [
    {
      "cell_type": "markdown",
      "id": "e893d732",
      "metadata": {
        "id": "e893d732"
      },
      "source": [
        "# HOG descriptor"
      ]
    },
    {
      "cell_type": "code",
      "execution_count": 5,
      "id": "0c93ba2a",
      "metadata": {
        "id": "0c93ba2a"
      },
      "outputs": [],
      "source": [
        "from sklearn import svm\n",
        "import cv2\n",
        "from sklearn.metrics import accuracy_score\n",
        "import tensorflow as tf\n",
        "############################################################################################\n",
        "#HOG Parameters#\n",
        "winsize = (32,32)\n",
        "blocksize = (16,16)\n",
        "blockstride = (8,8)\n",
        "cellsize = (8,8)\n",
        "nbins = 9\n",
        "hog = cv2.HOGDescriptor(winsize,blocksize,blockstride,cellsize,nbins)\n",
        "############################################################################################\n",
        "#loading training data then shaping that data into images 32x32 then using HOG discriptor on them#\n",
        "(train_images, train_labels), (test_images, test_labels) = tf.keras.datasets.cifar100.load_data()\n",
        "number_training_data=50000 #10000,20000,30000,40000,50000\n",
        "data_train=[]\n",
        "for i in range(number_training_data):\n",
        "    data_train.append(hog.compute(train_images[i]))"
      ]
    },
    {
      "cell_type": "markdown",
      "id": "5a02bf5b",
      "metadata": {
        "id": "5a02bf5b"
      },
      "source": [
        "# Training data SVM"
      ]
    },
    {
      "cell_type": "code",
      "execution_count": null,
      "id": "070b8ac3",
      "metadata": {
        "colab": {
          "base_uri": "https://localhost:8080/",
          "height": 129
        },
        "id": "070b8ac3",
        "outputId": "b2d4c8b3-d2db-45d5-9b50-27aeb2108df6"
      },
      "outputs": [],
      "source": [
        "clf = svm.SVC(decision_function_shape='ovr')\n",
        "clf.fit(data_train, train_labels[:number_training_data])"
      ]
    },
    {
      "cell_type": "markdown",
      "id": "bcf116cc",
      "metadata": {
        "id": "bcf116cc"
      },
      "source": [
        "# Testing and checking accuracy"
      ]
    },
    {
      "cell_type": "code",
      "execution_count": 7,
      "id": "b6887512",
      "metadata": {
        "colab": {
          "base_uri": "https://localhost:8080/"
        },
        "id": "b6887512",
        "outputId": "c219a067-3ae9-4429-a002-89d07a4d1741"
      },
      "outputs": [
        {
          "name": "stdout",
          "output_type": "stream",
          "text": [
            "0.3084\n"
          ]
        }
      ],
      "source": [
        "number_test_data=10000\n",
        "data_test=[]\n",
        "for i in range(number_test_data):\n",
        "    data_test.append(hog.compute(test_images[i]))\n",
        "\n",
        "predict=clf.predict(data_test)\n",
        "accuracy=accuracy_score(test_labels,predict)\n",
        "print(accuracy)\n"
      ]
    }
  ],
  "metadata": {
    "accelerator": "GPU",
    "colab": {
      "gpuType": "T4",
      "provenance": []
    },
    "kernelspec": {
      "display_name": "Python 3",
      "name": "python3"
    },
    "language_info": {
      "codemirror_mode": {
        "name": "ipython",
        "version": 3
      },
      "file_extension": ".py",
      "mimetype": "text/x-python",
      "name": "python",
      "nbconvert_exporter": "python",
      "pygments_lexer": "ipython3",
      "version": "3.9.12"
    },
    "vscode": {
      "interpreter": {
        "hash": "cf0b053ec60c51acbf9b234663d2a94147f1419af99fefc5982f553fc46997b4"
      }
    }
  },
  "nbformat": 4,
  "nbformat_minor": 5
}
