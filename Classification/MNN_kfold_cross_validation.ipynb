{
 "cells": [
  {
   "cell_type": "markdown",
   "metadata": {},
   "source": [
    "## Imports"
   ]
  },
  {
   "cell_type": "code",
   "execution_count": 1,
   "metadata": {},
   "outputs": [],
   "source": [
    "import numpy as np\n",
    "import matplotlib.pyplot as plt\n",
    "import tensorflow as tf\n",
    "from sklearn.model_selection import KFold"
   ]
  },
  {
   "cell_type": "markdown",
   "metadata": {},
   "source": [
    "## CIFAR100"
   ]
  },
  {
   "cell_type": "code",
   "execution_count": 2,
   "metadata": {},
   "outputs": [],
   "source": [
    "# Load the data from the CIFAR100 dataset\n",
    "(train_images, train_labels), (test_images, test_labels) = tf.keras.datasets.cifar100.load_data()"
   ]
  },
  {
   "cell_type": "code",
   "execution_count": null,
   "metadata": {},
   "outputs": [],
   "source": [
    "print(\"train_images.shape is \", train_images.shape)\n",
    "print(\"train_labels.shape is \", train_labels.shape)\n",
    "print(\"test_images.shape is \", test_images.shape)\n",
    "print(\"test_labels.shape is \", test_labels.shape)"
   ]
  },
  {
   "cell_type": "markdown",
   "metadata": {},
   "source": [
    "## Visualizing all 100 classes"
   ]
  },
  {
   "cell_type": "code",
   "execution_count": null,
   "metadata": {},
   "outputs": [],
   "source": [
    "for i in range(100):\n",
    "    for j in range(len(train_labels)):\n",
    "        if train_labels[j] == i:\n",
    "            plt.subplot(10,10,i+1)\n",
    "            plt.imshow(train_images[j])\n",
    "            plt.title(train_labels[j])\n",
    "            break\n",
    "plt.show()"
   ]
  },
  {
   "cell_type": "markdown",
   "metadata": {},
   "source": [
    "## Visualizing before normalization"
   ]
  },
  {
   "cell_type": "code",
   "execution_count": null,
   "metadata": {},
   "outputs": [],
   "source": [
    "plt.subplot(1,2,1)\n",
    "plt.imshow(train_images[0])\n",
    "plt.subplot(1,2,2)\n",
    "plt.imshow(test_images[0])\n",
    "plt.show()"
   ]
  },
  {
   "cell_type": "markdown",
   "metadata": {},
   "source": [
    "## Normalization"
   ]
  },
  {
   "cell_type": "code",
   "execution_count": 6,
   "metadata": {},
   "outputs": [],
   "source": [
    "#normalize the data by subtarcting the mean and dividing by the standard deviation\n",
    "training_images_norm = (train_images - np.mean(train_images)) / np.std(train_images)\n",
    "testing_images_norm = (test_images - np.mean(test_images)) / np.std(test_images)"
   ]
  },
  {
   "cell_type": "markdown",
   "metadata": {},
   "source": [
    "## Visualizing after normalization"
   ]
  },
  {
   "cell_type": "code",
   "execution_count": null,
   "metadata": {},
   "outputs": [],
   "source": [
    "plt.subplot(1,2,1)\n",
    "plt.imshow(training_images_norm [0])\n",
    "plt.subplot(1,2,2)\n",
    "plt.imshow(testing_images_norm[0])\n",
    "plt.show()"
   ]
  },
  {
   "cell_type": "markdown",
   "metadata": {},
   "source": [
    "## MNN Model"
   ]
  },
  {
   "cell_type": "code",
   "execution_count": null,
   "metadata": {},
   "outputs": [],
   "source": [
    "#create a second model with MNN layers\n",
    "model_MNN = tf.keras.models.Sequential()\n",
    "model_MNN.add(tf.keras.layers.Flatten(input_shape=(32, 32, 3)))\n",
    "model_MNN.add(tf.keras.layers.Dense(1024, activation='relu'))\n",
    "model_MNN.add(tf.keras.layers.Dense(512, activation='relu'))\n",
    "model_MNN.add(tf.keras.layers.Dense(256, activation='relu'))\n",
    "model_MNN.add(tf.keras.layers.Dense(128, activation='relu'))\n",
    "model_MNN.add(tf.keras.layers.Dense(100, activation='softmax'))\n",
    "model_MNN.summary()\n",
    "#compile the model\n",
    "model_MNN.compile(optimizer='adam',loss=tf.losses.SparseCategoricalCrossentropy(from_logits=True),metrics=['accuracy'])\n",
    "#stop training when the validation loss is not improving\n",
    "stop = tf.keras.callbacks.EarlyStopping(monitor='val_loss', patience=10,restore_best_weights=True)"
   ]
  },
  {
   "cell_type": "markdown",
   "metadata": {},
   "source": [
    "## MNN training using k-fold cross validation method "
   ]
  },
  {
   "cell_type": "code",
   "execution_count": null,
   "metadata": {},
   "outputs": [],
   "source": [
    "#k-fold cross validation\n",
    "kfold = KFold(n_splits=5, shuffle=True)\n",
    "history_MNN = []\n",
    "for train, validation in kfold.split(training_images_norm, train_labels):\n",
    "    history_MNN.append(model_MNN.fit(training_images_norm[train], train_labels[train], epochs=100,\n",
    "    validation_data=(training_images_norm[validation], train_labels[validation]), callbacks=[stop]))"
   ]
  },
  {
   "cell_type": "code",
   "execution_count": null,
   "metadata": {},
   "outputs": [],
   "source": [
    "accuracy_MNN = []\n",
    "validation_accuracy_MNN = []\n",
    "loss_MNN = []\n",
    "validation_loss_MNN = []\n",
    "for i in range(len(history_MNN)):\n",
    "    accuracy_MNN+=history_MNN[i].history['accuracy']\n",
    "    validation_accuracy_MNN+=history_MNN[i].history['val_accuracy']\n",
    "    loss_MNN+=history_MNN[i].history['loss']\n",
    "    validation_loss_MNN+=history_MNN[i].history['val_loss']"
   ]
  },
  {
   "cell_type": "markdown",
   "metadata": {},
   "source": [
    "## Evaluating MNN model with test data"
   ]
  },
  {
   "cell_type": "code",
   "execution_count": null,
   "metadata": {},
   "outputs": [],
   "source": [
    "#evaluate the MNN model\n",
    "test_loss_MNN, test_acc_MNN = model_MNN.evaluate(testing_images_norm,  test_labels, verbose=2)\n",
    "print('Test accuracy:', test_acc_MNN)\n",
    "print('Test loss:', test_loss_MNN)"
   ]
  },
  {
   "cell_type": "markdown",
   "metadata": {},
   "source": [
    "## Predicting test data"
   ]
  },
  {
   "cell_type": "code",
   "execution_count": null,
   "metadata": {},
   "outputs": [],
   "source": [
    "#predict the labels for the test images(MNN)\n",
    "predictions_MNN = model_MNN.predict(testing_images_norm)"
   ]
  },
  {
   "cell_type": "markdown",
   "metadata": {},
   "source": [
    "## Plotting accuracy of training and testing data using MNN model "
   ]
  },
  {
   "cell_type": "code",
   "execution_count": null,
   "metadata": {},
   "outputs": [
    {
     "data": {
      "image/png": "[encoded data removed]",
      "text/plain": [
       "<Figure size 432x288 with 1 Axes>"
      ]
     },
     "metadata": {
      "needs_background": "light"
     },
     "output_type": "display_data"
    }
   ],
   "source": [
    "#plot the accuracy and loss for the MNN model\n",
    "plt.plot(accuracy_MNN, label='accuracy')\n",
    "plt.plot(validation_accuracy_MNN, label = 'val_accuracy')\n",
    "plt.xlabel('Epoch')\n",
    "plt.ylabel('Accuracy')\n",
    "plt.legend(loc='lower right')\n",
    "plt.show()"
   ]
  },
  {
   "cell_type": "markdown",
   "metadata": {},
   "source": [
    "## Plotting loss of training and testing data using MNN model "
   ]
  },
  {
   "cell_type": "code",
   "execution_count": null,
   "metadata": {},
   "outputs": [
    {
     "data": {
      "image/png": "[encoded data removed]",
      "text/plain": [
       "<Figure size 432x288 with 1 Axes>"
      ]
     },
     "metadata": {
      "needs_background": "light"
     },
     "output_type": "display_data"
    }
   ],
   "source": [
    "#plot the loss for the MNN model\n",
    "plt.plot(loss_MNN, label='loss')\n",
    "plt.plot(validation_loss_MNN, label = 'val_loss')\n",
    "plt.xlabel('Epoch')\n",
    "plt.ylabel('Loss')\n",
    "plt.legend(loc='lower right')\n",
    "plt.show()"
   ]
  }
 ],
 "metadata": {
  "kernelspec": {
   "display_name": "Python 3.9.12 ('base')",
   "language": "python",
   "name": "python3"
  },
  "language_info": {
   "codemirror_mode": {
    "name": "ipython",
    "version": 3
   },
   "file_extension": ".py",
   "mimetype": "text/x-python",
   "name": "python",
   "nbconvert_exporter": "python",
   "pygments_lexer": "ipython3",
   "version": "3.9.12"
  },
  "orig_nbformat": 4,
  "vscode": {
   "interpreter": {
    "hash": "cf0b053ec60c51acbf9b234663d2a94147f1419af99fefc5982f553fc46997b4"
   }
  }
 },
 "nbformat": 4,
 "nbformat_minor": 2
}
